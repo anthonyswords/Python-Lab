{
 "cells": [
  {
   "cell_type": "markdown",
   "metadata": {},
   "source": [
    "<img src=\"https://bit.ly/2VnXWr2\" width=\"100\" align=\"left\">"
   ]
  },
  {
   "cell_type": "markdown",
   "metadata": {},
   "source": [
    "# Rock, Paper & Scissors\n",
    "\n",
    "Let's play the famous game against our computer. You can check the rules [here](https://en.wikipedia.org/wiki/Rock%E2%80%93paper%E2%80%93scissors). \n",
    "\n",
    "## Task\n",
    "Create a program that imitates the playability of the well known game of rock, paper, scissors. Follow the guidelines provided.\n",
    "\n",
    "## Tools\n",
    "1. Loop: **for/while**\n",
    "2. Functions: **input(), print()...**\n",
    "3. Conditional statements: **if, elif, else**\n",
    "4. Definition of functions. Modular programming\n",
    "5. Import modules\n",
    "\n",
    "**To solve this challenge, the use of functions is recommended.**\n",
    "\n",
    "#### 1. Import the choice function of the random module."
   ]
  },
  {
   "cell_type": "code",
   "execution_count": null,
   "metadata": {},
   "outputs": [],
   "source": [
    "from random import randint"
   ]
  },
  {
   "cell_type": "markdown",
   "metadata": {},
   "source": [
    "#### 2. Create a list that includes the 3 possible gesture options of the game: 'rock', 'paper' or 'scissors'. Store the list in a variable called `gestures`."
   ]
  },
  {
   "cell_type": "code",
   "execution_count": null,
   "metadata": {},
   "outputs": [],
   "source": [
    "gestures=['rock','paper','scissors']"
   ]
  },
  {
   "cell_type": "markdown",
   "metadata": {},
   "source": [
    "#### 3. Create a variable called `n_rounds` to store the maximum number of rounds to play in a game. \n",
    "Remember that the number of rounds must be odd: 1, 3, 5, ..."
   ]
  },
  {
   "cell_type": "code",
   "execution_count": null,
   "metadata": {},
   "outputs": [],
   "source": [
    "n_rounds=0\n",
    "def main():\n",
    "    global n_rounds\n",
    "    while True:\n",
    "        try:\n",
    "            print(\"Welcome to the most famous battle royal in the whole history: Rock, Paper & Scissors\")\n",
    "            n_rounds = int(input(\"Plase, insert how many round/s would like to play in a game?: \"))\n",
    "            if n_rounds%2 !=  0:\n",
    "                print(f\"Excelent! {n_rounds} round/s to play in a game\\n\")\n",
    "                return n_rounds\n",
    "                break\n",
    "            else:\n",
    "                print(f\"Sorry, Remember that the number of rounds must be odd.\\n\")\n",
    "        except:\n",
    "                print(f\"Sorry, did you insert a correct number?\\n\")\n"
   ]
  },
  {
   "cell_type": "markdown",
   "metadata": {},
   "source": [
    "#### 4. Create a variable called `rounds_to_win` to store the number of rounds that a player must win to win the game.\n",
    "**Hint**: the value stored in `rounds_to_win` depends on the value of `n_rounds`. "
   ]
  },
  {
   "cell_type": "code",
   "execution_count": null,
   "metadata": {},
   "outputs": [],
   "source": [
    "\n",
    "rounds_to_win=(int(n_rounds)/2) + 0.5\n"
   ]
  },
  {
   "cell_type": "markdown",
   "metadata": {},
   "source": [
    "#### 5. Create two variables to store the number of rounds that the computer and the player have won. Call these variables `cpu_score` and `player_score`."
   ]
  },
  {
   "cell_type": "code",
   "execution_count": null,
   "metadata": {},
   "outputs": [],
   "source": [
    "cpu_score=0\n",
    "player_score=0\n",
    "\n",
    "def scoreboard_reset(player_score,cpu_score):\n",
    "    cpu_score=cpu_score*0\n",
    "    player_score=player_score*0\n",
    "    return cpu_score\n",
    "    return player_Score"
   ]
  },
  {
   "cell_type": "markdown",
   "metadata": {},
   "source": [
    "#### 6. Define a function that randomly returns one of the 3 gesture options.\n",
    "You will use this function to simulate the gesture choice of the computer. "
   ]
  },
  {
   "cell_type": "code",
   "execution_count": null,
   "metadata": {},
   "outputs": [],
   "source": [
    "random_choosing_gesture_index = 0\n",
    "\n",
    "def random_choosing_gesture():\n",
    "    global random_choosing_gesture_index\n",
    "    random_choosing_gesture_index=randint(min(range(len(gestures))), max(range(len(gestures))))\n",
    "    return random_choosing_gesture_index\n"
   ]
  },
  {
   "cell_type": "markdown",
   "metadata": {},
   "source": [
    "#### 7. Define a function that asks the player which is the gesture he or she wants to show: 'rock', 'paper' or 'scissors'.\n",
    "The player should only be allowed to choose one of the 3 gesture options. If the player's choice is not rock, paper or scissors, keep asking until it is."
   ]
  },
  {
   "cell_type": "code",
   "execution_count": null,
   "metadata": {},
   "outputs": [],
   "source": [
    "player_choosing_gesture_index=0\n",
    "\n",
    "def player_choosing_gesture():\n",
    "    global player_choosing_gesture_index\n",
    "    while True:\n",
    "        player_choosing_gesture= str(input(\"Dear player, how would you want to beat such as rock, paper or scissors?: \\n\"))\n",
    "        if player_choosing_gesture not in gestures:\n",
    "            print(f\"Sorry, but {player_choosing_gesture} is not valid for the game, let's try again\\n\")\n",
    "        else:\n",
    "            player_choosing_gesture_index = gestures.index(player_choosing_gesture)\n",
    "            return player_choosing_gesture_index\n",
    "    \n"
   ]
  },
  {
   "cell_type": "markdown",
   "metadata": {},
   "source": [
    "#### 8. Define a function that checks who won a round. \n",
    "The function should return 0 if there is a tie, 1 if the computer wins and 2 if the player wins."
   ]
  },
  {
   "cell_type": "code",
   "execution_count": null,
   "metadata": {},
   "outputs": [],
   "source": [
    "def winner_per_round(x,y):\n",
    "    result = [ [False, False, True,], [True, False, False], [False, True, False] ]\n",
    "    if (x == y):        \n",
    "        return 0\n",
    "    else:\n",
    "        if result[y][x]:#condition if the machine wins in case to be True this sentence. Explination: the first view we see that in the list[0] is the rock (and the sub list list[0][:] is... the rock wins the differentes elements? 0:rock False, 1:Paper False, 2:Scissors True)         \n",
    "            return 1\n",
    "        \n",
    "        else: #condition if the player wins        \n",
    "            return 2"
   ]
  },
  {
   "cell_type": "markdown",
   "metadata": {},
   "source": [
    "#### 9. Define a function that prints the choice of the computer, the choice of the player and a message that announces who won the current round. \n",
    "You should also use this function to update the variables that count the number of rounds that the computer and the player have won. The score of the winner increases by one point. If there is a tie, the score does not increase."
   ]
  },
  {
   "cell_type": "code",
   "execution_count": null,
   "metadata": {},
   "outputs": [],
   "source": [
    "def print_choices():\n",
    "    global cpu_score\n",
    "    global player_score\n",
    "    print(f\"\\nLet's fight! For this round, your choice is {gestures[player_choosing_gesture_index]} and the choice machine is {gestures[random_choosing_gesture_index]} \")\n",
    "    if winner_per_round(player_choosing_gesture_index,random_choosing_gesture_index) == 0:\n",
    "        print(\"There's a tie!\\n\")\n",
    "    elif winner_per_round(player_choosing_gesture_index,random_choosing_gesture_index) == 1:\n",
    "        cpu_score=cpu_score+1\n",
    "        print(f'So, in this round, the winner is the machine! \\n')\n",
    "    else:\n",
    "        player_score= player_score+1\n",
    "        print(f'The winner is the player! \\n')\n",
    "    print(f\"Scoreborad: Player {player_score} vs Machine {cpu_score}\")\n"
   ]
  },
  {
   "cell_type": "markdown",
   "metadata": {},
   "source": [
    "#### 10. Now it's time to code the execution of the game using the functions and variables you defined above. \n",
    "\n",
    "First, create a loop structure that repeats while no player reaches the minimum score necessary to win and the number of rounds is less than the maximum number of rounds to play in a game.  \n",
    "\n",
    "Inside the loop, use the functions and variables above to create the execution of a round: ask for the player's choice, generate the random choice of the computer, show the round results, update the scores, etc. "
   ]
  },
  {
   "cell_type": "code",
   "execution_count": null,
   "metadata": {},
   "outputs": [],
   "source": [
    "round_per_round=1\n",
    "\n",
    "main()\n",
    "\n",
    "while round_per_round<n_rounds+1:\n",
    "    print(f\"\\n\\nNumber round:{round_per_round}\")\n",
    "    player_choosing_gesture()\n",
    "    random_choosing_gesture()\n",
    "    print_choices()\n",
    "    round_per_round = round_per_round+1\n",
    "\n",
    "\n"
   ]
  },
  {
   "cell_type": "markdown",
   "metadata": {},
   "source": [
    "#### 11. Print the winner of the game based on who won more rounds.\n",
    "Remember that the game might be tied. "
   ]
  },
  {
   "cell_type": "code",
   "execution_count": null,
   "metadata": {},
   "outputs": [],
   "source": [
    "while True:\n",
    "    print(\"The winner of the battle Rock, Paper, Scissors is:...\")\n",
    "    if player_score > cpu_score:\n",
    "        print(\"YOU, congrats player! \")\n",
    "        break\n",
    "    elif player_score < cpu_score:\n",
    "        print(\"The machine!\")\n",
    "        break\n",
    "    else:\n",
    "        print(\"There's a TIE, there's NO WINNER! We'll play the last one\")\n",
    "        player_choosing_gesture()\n",
    "        print_choices()\n",
    "        if player_score > cpu_score:\n",
    "            print(\"YOU, congrats player! \")\n",
    "            break\n",
    "        elif player_score < cpu_score:\n",
    "            print(\"The machine!\")\n",
    "            break\n",
    "\n",
    "scoreboard_reset(player_score,cpu_score)\n"
   ]
  },
  {
   "cell_type": "markdown",
   "metadata": {},
   "source": [
    "# Bonus: Rock, Paper, Scissors, Lizard & Spock\n",
    "![](images/rpsls.jpg)\n",
    "\n",
    "In this challenge, you need to improve the previous game by adding two new options. To know more about the rules of the improved version of rock, paper, scissors, check this [link](http://www.samkass.com/theories/RPSSL.html). \n",
    "\n",
    "In addition, you will also need to improve how the game interacts with the player: the number of rounds to play, which must be an odd number, will be requested to the user until a valid number is entered. Define a new function to make that request.\n",
    "\n",
    "**Hint**: Try to reuse the code that you already coded in the previous challenge. If your code is efficient, this bonus will only consist of simple modifications to the original game."
   ]
  },
  {
   "cell_type": "code",
   "execution_count": null,
   "metadata": {},
   "outputs": [],
   "source": [
    "five_gestures=[n for n in gestures]\n",
    "five_gestures.extend(['spock', 'lizard'])\n",
    "print(five_gestures)"
   ]
  },
  {
   "cell_type": "code",
   "execution_count": null,
   "metadata": {},
   "outputs": [],
   "source": [
    "n_rounds=0\n",
    "cpu_score=0\n",
    "player_score=0\n",
    "random_choosing_gesture_index = 0\n",
    "player_choosing_gesture_index=0\n",
    "round_per_round=1\n",
    "\n",
    "def main():\n",
    "    global n_rounds\n",
    "    while True:\n",
    "        try:\n",
    "            print(\"Welcome to the most famous battle royal in the whole history: Rock, Paper, Scissors, Spock and Lizard\")\n",
    "            n_rounds = int(input(\"Plase, insert how many round/s would like to play in a game?: \"))\n",
    "            if n_rounds%2 !=  0:\n",
    "                print(f\"Excelent! {n_rounds} round/s to play in a game\\n\")\n",
    "                return n_rounds\n",
    "                break\n",
    "            else:\n",
    "                print(f\"Sorry, Remember that the number of rounds must be odd.\\n\")\n",
    "        except:\n",
    "                print(f\"Sorry, did you insert a correct number? It needs to be odd and entered\\n\")\n",
    "                \n",
    "\n",
    "\n",
    "def random_choosing_gesture():\n",
    "    global random_choosing_gesture_index\n",
    "    random_choosing_gesture_index=randint(min(range(len(gestures))), max(range(len(gestures))))\n",
    "    return random_choosing_gesture_index\n",
    "\n",
    "\n",
    "\n",
    "def player_choosing_gesture():\n",
    "    global player_choosing_gesture_index\n",
    "    while True:\n",
    "        player_choosing_gesture= str(input(\"Dear player, how would you want to beat such as rock, paper, scissors spock or lizard?: \\n\"))\n",
    "        if player_choosing_gesture not in five_gestures:\n",
    "            print(f\"Sorry, but {player_choosing_gesture} is not valid for the game, let's try again\\n\")\n",
    "        else:\n",
    "            player_choosing_gesture_index = five_gestures.index(player_choosing_gesture)\n",
    "            return player_choosing_gesture_index\n",
    "\n",
    "\n",
    "def winner_per_round(x,y):\n",
    "    result = [ [False, False, True, False, True], [True, False, False, True, False], [False, True, False, False, True], [True, False, True, False, False],[False, True, False, True, False] ]\n",
    "    if (x == y):        \n",
    "        return 0\n",
    "    else:\n",
    "        if result[y][x]:            \n",
    "            return 1\n",
    "        \n",
    "        else:         \n",
    "            return 2\n",
    "        \n",
    "def print_choices():\n",
    "    global cpu_score\n",
    "    global player_score\n",
    "    print(f\"\\nLet's fight! For this round, your choice is {gestures[player_choosing_gesture_index]} and the choice machine is {gestures[random_choosing_gesture_index]} \")\n",
    "    if winner_per_round(player_choosing_gesture_index,random_choosing_gesture_index) == 0:\n",
    "        print(\"There's a tie!\\n\")\n",
    "    elif winner_per_round(player_choosing_gesture_index,random_choosing_gesture_index) == 1:\n",
    "        cpu_score=cpu_score+1\n",
    "        print(f'So, in this round, the winner is the machine! \\n')\n",
    "    else:\n",
    "        player_score= player_score+1\n",
    "        print(f'The winner is the player! \\n')\n",
    "    print(f\"Scoreborad: Player {player_score} vs Machine {cpu_score}\")\n",
    "\n",
    "def print_winner():\n",
    "    while True:\n",
    "        print(\"The winner of the battle Rock, Paper, Scissors is:...\")\n",
    "        if player_score > cpu_score:\n",
    "            print(\"YOU, congrats player! \")\n",
    "            break\n",
    "        elif player_score < cpu_score:\n",
    "            print(\"The machine!\")\n",
    "            break\n",
    "        else:\n",
    "            print(\"There's a TIE, there's NO WINNER! We'll play the last one\")\n",
    "            player_choosing_gesture()\n",
    "            print_choices()\n",
    "            if player_score > cpu_score:\n",
    "                print(\"YOU, congrats player! \")\n",
    "                break\n",
    "            elif player_score < cpu_score:\n",
    "                print(\"The machine!\")\n",
    "                break\n",
    "\n",
    "    \n",
    "\n",
    "main()\n",
    "while round_per_round<n_rounds+1:\n",
    "    print(f\"\\n\\nNumber round:{round_per_round}\")\n",
    "    player_choosing_gesture()\n",
    "    random_choosing_gesture()\n",
    "    print_choices()\n",
    "    round_per_round = round_per_round+1\n",
    "print_winner()\n",
    "scoreboard_reset(player_score,cpu_score)\n"
   ]
  }
 ],
 "metadata": {
  "kernelspec": {
   "display_name": "Python 3",
   "language": "python",
   "name": "python3"
  },
  "language_info": {
   "codemirror_mode": {
    "name": "ipython",
    "version": 3
   },
   "file_extension": ".py",
   "mimetype": "text/x-python",
   "name": "python",
   "nbconvert_exporter": "python",
   "pygments_lexer": "ipython3",
   "version": "3.7.1"
  }
 },
 "nbformat": 4,
 "nbformat_minor": 2
}
